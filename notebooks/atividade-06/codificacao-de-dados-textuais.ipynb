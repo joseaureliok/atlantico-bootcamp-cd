{
 "cells": [
  {
   "cell_type": "markdown",
   "id": "c33dd7fc-7152-409d-8b2c-478d61209863",
   "metadata": {},
   "source": [
    "# Atividade #06"
   ]
  },
  {
   "cell_type": "markdown",
   "id": "5c016bb4-fe17-48ce-9988-f2c58f7b7688",
   "metadata": {},
   "source": [
    "#### Codificação de variáveis textuais"
   ]
  },
  {
   "cell_type": "markdown",
   "id": "6bdf95dc-e95e-445f-9297-62dfbc4e0c7a",
   "metadata": {},
   "source": [
    "## Explicações"
   ]
  },
  {
   "cell_type": "markdown",
   "id": "f573b82a-9279-455c-9e1a-f64d7501d04f",
   "metadata": {},
   "source": [
    "As palavras ou textos em geral são formatadas em dados não estruturados, isto é, não padronizados e aptos a serem imediatamente processados por uma máquina. Para a relização da análise desses textos, utilza-se o que se chama de _feature extraction_. \n",
    "\n",
    "_Feature extraction_ nada mais é do que a transformação de variáveis textuais, isto é, um palavra, letra ou texto em um número, apto ao processamento ou armazenato computacional. Isso possibilita a utilização em modelos de aprendizado de máquina."
   ]
  },
  {
   "cell_type": "markdown",
   "id": "be1190ef-aba8-499e-a0e3-76c69e5f556f",
   "metadata": {},
   "source": [
    "### Bag-of-Words ou BoW"
   ]
  },
  {
   "cell_type": "markdown",
   "id": "c5bbfce8-86b2-471e-9d49-968d90535193",
   "metadata": {},
   "source": [
    "O modelo _bag-of-words_ ou _BoW_ é uma forma de representar o texto ou documento de acordo com a ocorrência de palavras nesse texto ou documento.\n",
    "\n",
    "Trata-se de uma representação simplificada utilizada para processamento de linguagem natural e/ou recuperação de informações cujo texto ou documento é atribuído a um _\"multiset\"_ ou _\"saco de suas palavras\"_, mantendo-se a multiplicidade (quantidade de vezes) das palavras encontradas.\n",
    "\n",
    "Vale dizer que o _BoW_ desconsidera a gramática e/ou a ordem das palavras.\n",
    "\n",
    "De forma resumida, possui 03 (três) etapas: (i) **Seleção dos dados**; (ii) **Geração de vocabulário**; (iii) **Formação de vetores obtidos de um documento**."
   ]
  },
  {
   "cell_type": "markdown",
   "id": "23dde5c8-6b03-4199-9f3c-50b6b08da3d3",
   "metadata": {},
   "source": [
    "### Term Frequency Inverse Document Frequency ou TD-IDF"
   ]
  },
  {
   "cell_type": "markdown",
   "id": "c483bb2f-4525-450a-8297-fe31db102e11",
   "metadata": {},
   "source": [
    "O modelo _Term Frequency Inverse Document Frequency_ ou _TF-IDF_ é um conjunto de medidas estatísticas utilizado para verificar a relevância de uma palavra em um documento ou texto e, por meio de uma pontuação, classificar essa relevância. \n",
    "\n",
    "Esse TF-IDF de uma palavra em um texto ou documento é obtido multiplicando duas métricas diferentes:\n",
    "   (i) **Term Frequency - TD** (a frequência do termo): mensura a frequência com que um termo ocorre num documento;\n",
    "   (ii) **Inverse Document Frequency - IDF** (inverso da frequência nos documentos): mensura a relevância de um termo no contexto de todos os documentos."
   ]
  },
  {
   "cell_type": "markdown",
   "id": "d72a24d7-8ef3-4d2d-aa33-8d25aaf892b7",
   "metadata": {},
   "source": [
    "## Prática"
   ]
  },
  {
   "cell_type": "code",
   "execution_count": 1,
   "id": "efc463ca-b69b-4839-992a-38cbd57a33e6",
   "metadata": {},
   "outputs": [],
   "source": [
    "# Importando bibliotecas\n",
    "\n",
    "from sklearn.feature_extraction.text import CountVectorizer, TfidfVectorizer\n",
    "import matplotlib.pyplot as plt\n",
    "import seaborn as sns"
   ]
  },
  {
   "cell_type": "code",
   "execution_count": 2,
   "id": "02db9aee-2a8d-467c-a8ed-8f7e259b5d3e",
   "metadata": {},
   "outputs": [
    {
     "name": "stdout",
     "output_type": "stream",
     "text": [
      "['John likes', 'likes to', 'to watch', 'watch movies', 'Mary likes', 'likes movies', 'movies too']\n"
     ]
    }
   ],
   "source": [
    "# Carregando dados\n",
    "\n",
    "frases = [\n",
    "    \"John likes\",\n",
    "    \"likes to\",\n",
    "    \"to watch\",\n",
    "    \"watch movies\",\n",
    "    \"Mary likes\",\n",
    "    \"likes movies\",\n",
    "    \"movies too\",\n",
    "]\n",
    "\n",
    "print(frases)"
   ]
  },
  {
   "cell_type": "code",
   "execution_count": 3,
   "id": "ffc9f81c-2eaf-4cb8-ac0a-cbb1bc30f12e",
   "metadata": {},
   "outputs": [
    {
     "name": "stdout",
     "output_type": "stream",
     "text": [
      "['john likes', 'likes to', 'to watch', 'watch movies', 'mary likes', 'likes movies', 'movies too']\n"
     ]
    }
   ],
   "source": [
    "# Padronizando dados\n",
    "\n",
    "lista_frases = []\n",
    "\n",
    "for i in frases:\n",
    "    lista_frases.append(i.lower())\n",
    "\n",
    "print(lista_frases)"
   ]
  },
  {
   "cell_type": "markdown",
   "id": "7b4bd55f-7f97-4b59-9d53-9c730d7a31ec",
   "metadata": {},
   "source": [
    "### Bag of Words"
   ]
  },
  {
   "cell_type": "code",
   "execution_count": 4,
   "id": "437aea4d-7c99-403d-8ec0-40f333fbefe2",
   "metadata": {},
   "outputs": [
    {
     "name": "stdout",
     "output_type": "stream",
     "text": [
      "[[1 1 0 0 0 0 0]\n",
      " [0 1 0 0 1 0 0]\n",
      " [0 0 0 0 1 0 1]\n",
      " [0 0 0 1 0 0 1]\n",
      " [0 1 1 0 0 0 0]\n",
      " [0 1 0 1 0 0 0]\n",
      " [0 0 0 1 0 1 0]]\n",
      "Dicionário:{'john': 0, 'likes': 1, 'to': 4, 'watch': 6, 'movies': 3, 'mary': 2, 'too': 5}\n"
     ]
    }
   ],
   "source": [
    "# Aplicando BoW\n",
    "\n",
    "vetorBow = CountVectorizer()\n",
    "\n",
    "resultado = vetorBow.fit_transform(lista_frases)\n",
    "\n",
    "#Imprimindo resultado na forma de matrix\n",
    "\n",
    "print(resultado.toarray())\n",
    "\n",
    "# Dicionário para contagem de frequência dos dados\n",
    "\n",
    "dicionario = vetorBow.vocabulary_\n",
    "\n",
    "# Imprimindo dicionário com palavras\n",
    "\n",
    "print( f\"Dicionário:{dicionario}\")\n"
   ]
  },
  {
   "cell_type": "code",
   "execution_count": 5,
   "id": "90f05a17-b03f-41dd-913e-8b9dbb62bb2c",
   "metadata": {},
   "outputs": [],
   "source": [
    "# Ordenando Dicionário\n",
    "\n",
    "dicionario = {k: v for k, v in sorted(dicionario.items(), key=lambda item: item[1], reverse = True)}"
   ]
  },
  {
   "cell_type": "code",
   "execution_count": 6,
   "id": "99465c0d-5c54-45b0-bb90-3d1955a3ab53",
   "metadata": {},
   "outputs": [
    {
     "data": {
      "image/png": "[encoded data removed]",
      "text/plain": [
       "<Figure size 432x288 with 1 Axes>"
      ]
     },
     "metadata": {
      "needs_background": "light"
     },
     "output_type": "display_data"
    }
   ],
   "source": [
    "# Criando gráfico Bow\n",
    "\n",
    "sns.set_style(\"darkgrid\")\n",
    "plt.title('Bag of Words')\n",
    "plt.bar(dicionario.keys(), dicionario.values(), color = \"lightsalmon\")\n",
    "plt.show()"
   ]
  },
  {
   "cell_type": "markdown",
   "id": "375533c7-dcea-4751-8d1f-fcc57686883b",
   "metadata": {},
   "source": [
    "### TF-IDF"
   ]
  },
  {
   "cell_type": "code",
   "execution_count": 7,
   "id": "8c55837a-ca1b-4803-8b7f-d8cc543539d0",
   "metadata": {},
   "outputs": [
    {
     "name": "stdout",
     "output_type": "stream",
     "text": [
      "Pontuação:{'john': 2.386294361119891, 'likes': 1.4700036292457357, 'to': 2.386294361119891, 'watch': 1.6931471805599454, 'movies': 1.9808292530117262, 'mary': 2.386294361119891, 'too': 1.9808292530117262}\n"
     ]
    }
   ],
   "source": [
    "# Aplicando TF-IDF\n",
    "\n",
    "vetorTf = TfidfVectorizer()\n",
    "\n",
    "vetorTf.fit_transform(lista_frases)\n",
    "\n",
    "# Frequência\n",
    "\n",
    "frequencia = vetorTf.vocabulary_\n",
    "\n",
    "# Pontuação\n",
    "\n",
    "score = vetorTf.idf_\n",
    "\n",
    "c = 0\n",
    "dicionario_score = {}\n",
    "for key in frequencia.keys():\n",
    "    dicionario_score [key] = score[c]\n",
    "    c += 1\n",
    "\n",
    "# Imprimindo pontuação\n",
    "\n",
    "print( f\"Pontuação:{dicionario_score}\")\n"
   ]
  },
  {
   "cell_type": "code",
   "execution_count": 8,
   "id": "d49f0d10-2183-4be5-a5f0-ad89d5ffe257",
   "metadata": {},
   "outputs": [],
   "source": [
    "# Ordenando Pontuação\n",
    "\n",
    "dicionario_score = {k: v for k, v in sorted(dicionario_score.items(), key=lambda item: item[1], reverse = True)}"
   ]
  },
  {
   "cell_type": "code",
   "execution_count": 9,
   "id": "6261c0d3-7f82-4dae-accc-e94e7230c195",
   "metadata": {},
   "outputs": [
    {
     "name": "stderr",
     "output_type": "stream",
     "text": [
      "/tmp/ipykernel_712/570029868.py:6: UserWarning: Trying to create polar plot on an Axes that does not have a polar projection.\n",
      "  plt.polar(dicionario_score.keys(), dicionario_score.values(), color = \"grey\")\n"
     ]
    },
    {
     "data": {
      "image/png": "[encoded data removed]",
      "text/plain": [
       "<Figure size 432x288 with 1 Axes>"
      ]
     },
     "metadata": {},
     "output_type": "display_data"
    }
   ],
   "source": [
    "# Criando gráfico TF-IDF\n",
    "\n",
    "sns.set_style(\"darkgrid\")\n",
    "plt.title('Term Frequency Inverse Document Frequency')\n",
    "plt.scatter(dicionario_score.keys(), dicionario_score.values(), color = \"black\")\n",
    "plt.polar(dicionario_score.keys(), dicionario_score.values(), color = \"grey\")\n",
    "plt.show()"
   ]
  }
 ],
 "metadata": {
  "kernelspec": {
   "display_name": "Python 3 (ipykernel)",
   "language": "python",
   "name": "python3"
  },
  "language_info": {
   "codemirror_mode": {
    "name": "ipython",
    "version": 3
   },
   "file_extension": ".py",
   "mimetype": "text/x-python",
   "name": "python",
   "nbconvert_exporter": "python",
   "pygments_lexer": "ipython3",
   "version": "3.8.10"
  }
 },
 "nbformat": 4,
 "nbformat_minor": 5
}
