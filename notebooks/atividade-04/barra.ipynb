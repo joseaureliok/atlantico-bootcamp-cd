{
 "cells": [
  {
   "cell_type": "markdown",
   "id": "e9e06c9d-1754-4dc3-b672-41fa1c4af5d4",
   "metadata": {},
   "source": [
    "# GRÁFICO DE BARRAS\n",
    "\n",
    "## Bibliotecas "
   ]
  },
  {
   "cell_type": "code",
   "execution_count": 1,
   "id": "6b43907f-22f0-4840-a078-c59daf2fdbf8",
   "metadata": {},
   "outputs": [],
   "source": [
    "#importando bibliotecas\n",
    "\n",
    "from matplotlib import pyplot as plt\n",
    "import seaborn as sns\n",
    "import pandas as pd"
   ]
  },
  {
   "cell_type": "markdown",
   "id": "959e9de7-9ebf-4c6c-ab35-5519547366e6",
   "metadata": {},
   "source": [
    "## Leitura do conjunto de dados"
   ]
  },
  {
   "cell_type": "code",
   "execution_count": 2,
   "id": "0c12ff15-8d4a-4a0d-96a8-5daef4318a6e",
   "metadata": {},
   "outputs": [],
   "source": [
    "#carregando dados\n",
    "df_barra = pd.read_csv(\"https://gist.githubusercontent.com/omadson/770934cb0df9e2d2c3e8db031f1139a5/raw/4d181efc035b327d9d66256915951384517c603e/arrecadacao.csv\")"
   ]
  },
  {
   "cell_type": "code",
   "execution_count": 3,
   "id": "37921021-84cf-40c0-9663-5c29e73ff2c5",
   "metadata": {},
   "outputs": [
    {
     "data": {
      "text/html": [
       "<div>\n",
       "<style scoped>\n",
       "    .dataframe tbody tr th:only-of-type {\n",
       "        vertical-align: middle;\n",
       "    }\n",
       "\n",
       "    .dataframe tbody tr th {\n",
       "        vertical-align: top;\n",
       "    }\n",
       "\n",
       "    .dataframe thead th {\n",
       "        text-align: right;\n",
       "    }\n",
       "</style>\n",
       "<table border=\"1\" class=\"dataframe\">\n",
       "  <thead>\n",
       "    <tr style=\"text-align: right;\">\n",
       "      <th></th>\n",
       "      <th>arrecadacao</th>\n",
       "      <th>titulo</th>\n",
       "    </tr>\n",
       "  </thead>\n",
       "  <tbody>\n",
       "    <tr>\n",
       "      <th>0</th>\n",
       "      <td>7316746</td>\n",
       "      <td>Ferdinand</td>\n",
       "    </tr>\n",
       "    <tr>\n",
       "      <th>1</th>\n",
       "      <td>36169328</td>\n",
       "      <td>Jumanji: Welcome to the Jungle</td>\n",
       "    </tr>\n",
       "    <tr>\n",
       "      <th>2</th>\n",
       "      <td>19928525</td>\n",
       "      <td>Pitch Perfect 3</td>\n",
       "    </tr>\n",
       "    <tr>\n",
       "      <th>3</th>\n",
       "      <td>71565498</td>\n",
       "      <td>Star Wars: The Last Jedi</td>\n",
       "    </tr>\n",
       "    <tr>\n",
       "      <th>4</th>\n",
       "      <td>8805843</td>\n",
       "      <td>The Greatest Showman</td>\n",
       "    </tr>\n",
       "  </tbody>\n",
       "</table>\n",
       "</div>"
      ],
      "text/plain": [
       "   arrecadacao                          titulo\n",
       "0      7316746                       Ferdinand\n",
       "1     36169328  Jumanji: Welcome to the Jungle\n",
       "2     19928525                 Pitch Perfect 3\n",
       "3     71565498        Star Wars: The Last Jedi\n",
       "4      8805843            The Greatest Showman"
      ]
     },
     "execution_count": 3,
     "metadata": {},
     "output_type": "execute_result"
    }
   ],
   "source": [
    "# visualizando\n",
    "df_barra.head()"
   ]
  },
  {
   "cell_type": "markdown",
   "id": "99fa0af6-e1c6-4aa8-b293-0aa6f4617528",
   "metadata": {},
   "source": [
    "### Como não fazer!!!"
   ]
  },
  {
   "cell_type": "code",
   "execution_count": 4,
   "id": "428e0eef-4733-47d4-a5de-d05535a567eb",
   "metadata": {},
   "outputs": [
    {
     "data": {
      "image/png": "[encoded data removed]",
      "text/plain": [
       "<Figure size 432x288 with 1 Axes>"
      ]
     },
     "metadata": {
      "needs_background": "light"
     },
     "output_type": "display_data"
    }
   ],
   "source": [
    "ax = sns.barplot(data = df_barra, y = 'arrecadacao', x = 'titulo')"
   ]
  },
  {
   "cell_type": "markdown",
   "id": "ade3ebad-df1d-4e73-8ced-1743a52102ed",
   "metadata": {},
   "source": [
    "## Processo adequado de visualização"
   ]
  },
  {
   "cell_type": "code",
   "execution_count": 5,
   "id": "593b4c03-2c73-4767-b021-58d46a691a9c",
   "metadata": {},
   "outputs": [
    {
     "data": {
      "image/png": "[encoded data removed]",
      "text/plain": [
       "<Figure size 504x216 with 1 Axes>"
      ]
     },
     "metadata": {},
     "output_type": "display_data"
    }
   ],
   "source": [
    "# dica 01 - transformando em valores simples\n",
    "df_barra = df_barra.assign(arrecadacao_milhao = df_barra.arrecadacao / 1000000)\n",
    "\n",
    "# dica 02 - ordenando as barras\n",
    "df_barra = df_barra.sort_values(by = 'arrecadacao', ascending = False)\n",
    "\n",
    "# dica 03 - linhas verticais\n",
    "sns.set_style ('whitegrid')\n",
    "\n",
    "# dica 04 - mesma cor e barras horizontais\n",
    "plt.figure(figsize = (7,3))\n",
    "ax = sns.barplot (data = df_barra, x = 'arrecadacao_milhao', y = 'titulo', color = 'purple')\n",
    "\n",
    "# dica 05 - adicionando valores nas barras\n",
    "ax.bar_label(\n",
    "    ax.containers[0],\n",
    "    fmt = '%1.f',\n",
    "    label_type = 'center',\n",
    "    color = 'white'\n",
    ")\n",
    "\n",
    "# dica 06 - ajustando titulo e labels\n",
    "plt.xlabel('Arrecadação (Milhões de dólares)')\n",
    "plt.ylabel('Filme')\n",
    "plt.title('Arrecadação de filmes')\n",
    "\n",
    "# dica 07 - adicionando linha vertical e removendo bordas\n",
    "ax.set(frame_on=False)\n",
    "ax.axvline(0, color=\"k\", clip_on=False)\n",
    "plt.show()"
   ]
  },
  {
   "cell_type": "markdown",
   "id": "a247a682-04eb-4a59-b7e3-b10cadd75813",
   "metadata": {},
   "source": [
    "#### Fim \n",
    "#### Visualização #01"
   ]
  }
 ],
 "metadata": {
  "kernelspec": {
   "display_name": "Python 3 (ipykernel)",
   "language": "python",
   "name": "python3"
  },
  "language_info": {
   "codemirror_mode": {
    "name": "ipython",
    "version": 3
   },
   "file_extension": ".py",
   "mimetype": "text/x-python",
   "name": "python",
   "nbconvert_exporter": "python",
   "pygments_lexer": "ipython3",
   "version": "3.8.10"
  }
 },
 "nbformat": 4,
 "nbformat_minor": 5
}
